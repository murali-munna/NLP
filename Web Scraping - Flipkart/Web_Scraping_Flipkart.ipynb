{
  "nbformat": 4,
  "nbformat_minor": 0,
  "metadata": {
    "colab": {
      "name": "Web Scraping - Flipkart.ipynb",
      "provenance": [],
      "collapsed_sections": []
    },
    "kernelspec": {
      "name": "python3",
      "display_name": "Python 3"
    }
  },
  "cells": [
    {
      "cell_type": "markdown",
      "metadata": {
        "id": "MyLXiU5v0_Xh",
        "colab_type": "text"
      },
      "source": [
        "#Extracting Basic Product Details from an E-commerce Website\n",
        "The objective is to attain raw data and perform Regular Expressions (RE) - One of the oldest and powerful NLP tool for Information Retrieval and Feature Engineering"
      ]
    },
    {
      "cell_type": "markdown",
      "metadata": {
        "id": "U8UllCSACmp9",
        "colab_type": "text"
      },
      "source": [
        "##1. Installing and Loading Required Packages"
      ]
    },
    {
      "cell_type": "code",
      "metadata": {
        "id": "9wAPcRZ70e-X",
        "colab_type": "code",
        "colab": {}
      },
      "source": [
        "# Import required packages\n",
        "from bs4 import BeautifulSoup # Parse HTML and XML documents\n",
        "import requests # Allow HTTP requests\n",
        "import pandas as pd # Data analysis"
      ],
      "execution_count": 166,
      "outputs": []
    },
    {
      "cell_type": "code",
      "metadata": {
        "id": "8tPqKc7TVtgf",
        "colab_type": "code",
        "colab": {
          "base_uri": "https://localhost:8080/",
          "height": 1000
        },
        "outputId": "7a00279a-1c2b-4c54-b8e3-953de613af02"
      },
      "source": [
        "# Selenium and Chrome Driver for connecting to Chrome browser\n",
        "# Main purpose of Selenium is for browser connections and automating brower activities\n",
        "# Please note that you can perform this extraction without selenium and chrome driver as well (by using requests module)\n",
        "!pip install selenium\n",
        "!apt-get update\n",
        "!apt install chromium-chromedriver\n",
        "\n",
        "from selenium import webdriver \n",
        "chrome_options = webdriver.ChromeOptions()\n",
        "chrome_options.add_argument('--headless')\n",
        "chrome_options.add_argument('--no-sandbox')\n",
        "chrome_options.add_argument('--disable-dev-shm-usage')\n",
        "wd = webdriver.Chrome('chromedriver',chrome_options=chrome_options)\n",
        "driver = webdriver.Chrome('chromedriver',chrome_options=chrome_options)"
      ],
      "execution_count": null,
      "outputs": [
        {
          "output_type": "stream",
          "text": [
            "Requirement already satisfied: selenium in /usr/local/lib/python3.6/dist-packages (3.141.0)\n",
            "Requirement already satisfied: urllib3 in /usr/local/lib/python3.6/dist-packages (from selenium) (1.24.3)\n",
            "Get:1 https://cloud.r-project.org/bin/linux/ubuntu bionic-cran35/ InRelease [3,626 B]\n",
            "Ign:2 https://developer.download.nvidia.com/compute/cuda/repos/ubuntu1804/x86_64  InRelease\n",
            "Ign:3 https://developer.download.nvidia.com/compute/machine-learning/repos/ubuntu1804/x86_64  InRelease\n",
            "Get:4 https://developer.download.nvidia.com/compute/cuda/repos/ubuntu1804/x86_64  Release [697 B]\n",
            "Hit:5 https://developer.download.nvidia.com/compute/machine-learning/repos/ubuntu1804/x86_64  Release\n",
            "Hit:6 http://ppa.launchpad.net/graphics-drivers/ppa/ubuntu bionic InRelease\n",
            "Get:7 https://developer.download.nvidia.com/compute/cuda/repos/ubuntu1804/x86_64  Release.gpg [836 B]\n",
            "Hit:9 http://archive.ubuntu.com/ubuntu bionic InRelease\n",
            "Get:10 http://security.ubuntu.com/ubuntu bionic-security InRelease [88.7 kB]\n",
            "Get:11 http://ppa.launchpad.net/marutter/c2d4u3.5/ubuntu bionic InRelease [15.4 kB]\n",
            "Get:12 http://archive.ubuntu.com/ubuntu bionic-updates InRelease [88.7 kB]\n",
            "Ign:13 https://developer.download.nvidia.com/compute/cuda/repos/ubuntu1804/x86_64  Packages\n",
            "Get:13 https://developer.download.nvidia.com/compute/cuda/repos/ubuntu1804/x86_64  Packages [255 kB]\n",
            "Get:14 http://security.ubuntu.com/ubuntu bionic-security/main amd64 Packages [1,037 kB]\n",
            "Get:15 http://archive.ubuntu.com/ubuntu bionic-backports InRelease [74.6 kB]\n",
            "Get:16 http://ppa.launchpad.net/marutter/c2d4u3.5/ubuntu bionic/main Sources [1,856 kB]\n",
            "Get:17 http://archive.ubuntu.com/ubuntu bionic-updates/multiverse amd64 Packages [27.1 kB]\n",
            "Get:18 http://archive.ubuntu.com/ubuntu bionic-updates/universe amd64 Packages [1,413 kB]\n",
            "Get:19 http://security.ubuntu.com/ubuntu bionic-security/universe amd64 Packages [882 kB]\n",
            "Get:20 http://archive.ubuntu.com/ubuntu bionic-updates/restricted amd64 Packages [116 kB]\n",
            "Get:21 http://archive.ubuntu.com/ubuntu bionic-updates/main amd64 Packages [1,334 kB]\n",
            "Get:22 http://ppa.launchpad.net/marutter/c2d4u3.5/ubuntu bionic/main amd64 Packages [895 kB]\n",
            "Fetched 8,088 kB in 6s (1,459 kB/s)\n",
            "Reading package lists... Done\n",
            "Reading package lists... Done\n",
            "Building dependency tree       \n",
            "Reading state information... Done\n",
            "The following package was automatically installed and is no longer required:\n",
            "  libnvidia-common-440\n",
            "Use 'apt autoremove' to remove it.\n",
            "The following additional packages will be installed:\n",
            "  chromium-browser chromium-browser-l10n chromium-codecs-ffmpeg-extra\n",
            "Suggested packages:\n",
            "  webaccounts-chromium-extension unity-chromium-extension adobe-flashplugin\n",
            "The following NEW packages will be installed:\n",
            "  chromium-browser chromium-browser-l10n chromium-chromedriver\n",
            "  chromium-codecs-ffmpeg-extra\n",
            "0 upgraded, 4 newly installed, 0 to remove and 50 not upgraded.\n",
            "Need to get 76.2 MB of archives.\n",
            "After this operation, 255 MB of additional disk space will be used.\n",
            "Get:1 http://archive.ubuntu.com/ubuntu bionic-updates/universe amd64 chromium-codecs-ffmpeg-extra amd64 84.0.4147.105-0ubuntu0.18.04.1 [1,118 kB]\n",
            "Get:2 http://archive.ubuntu.com/ubuntu bionic-updates/universe amd64 chromium-browser amd64 84.0.4147.105-0ubuntu0.18.04.1 [67.4 MB]\n",
            "Get:3 http://archive.ubuntu.com/ubuntu bionic-updates/universe amd64 chromium-browser-l10n all 84.0.4147.105-0ubuntu0.18.04.1 [3,379 kB]\n",
            "Get:4 http://archive.ubuntu.com/ubuntu bionic-updates/universe amd64 chromium-chromedriver amd64 84.0.4147.105-0ubuntu0.18.04.1 [4,354 kB]\n",
            "Fetched 76.2 MB in 9s (8,943 kB/s)\n",
            "Selecting previously unselected package chromium-codecs-ffmpeg-extra.\n",
            "(Reading database ... 144487 files and directories currently installed.)\n",
            "Preparing to unpack .../chromium-codecs-ffmpeg-extra_84.0.4147.105-0ubuntu0.18.04.1_amd64.deb ...\n",
            "Unpacking chromium-codecs-ffmpeg-extra (84.0.4147.105-0ubuntu0.18.04.1) ...\n",
            "Selecting previously unselected package chromium-browser.\n",
            "Preparing to unpack .../chromium-browser_84.0.4147.105-0ubuntu0.18.04.1_amd64.deb ...\n",
            "Unpacking chromium-browser (84.0.4147.105-0ubuntu0.18.04.1) ...\n",
            "Selecting previously unselected package chromium-browser-l10n.\n",
            "Preparing to unpack .../chromium-browser-l10n_84.0.4147.105-0ubuntu0.18.04.1_all.deb ...\n",
            "Unpacking chromium-browser-l10n (84.0.4147.105-0ubuntu0.18.04.1) ...\n",
            "Selecting previously unselected package chromium-chromedriver.\n",
            "Preparing to unpack .../chromium-chromedriver_84.0.4147.105-0ubuntu0.18.04.1_amd64.deb ...\n",
            "Unpacking chromium-chromedriver (84.0.4147.105-0ubuntu0.18.04.1) ...\n",
            "Setting up chromium-codecs-ffmpeg-extra (84.0.4147.105-0ubuntu0.18.04.1) ...\n",
            "Setting up chromium-browser (84.0.4147.105-0ubuntu0.18.04.1) ...\n",
            "update-alternatives: using /usr/bin/chromium-browser to provide /usr/bin/x-www-browser (x-www-browser) in auto mode\n",
            "update-alternatives: using /usr/bin/chromium-browser to provide /usr/bin/gnome-www-browser (gnome-www-browser) in auto mode\n",
            "Setting up chromium-chromedriver (84.0.4147.105-0ubuntu0.18.04.1) ...\n",
            "Setting up chromium-browser-l10n (84.0.4147.105-0ubuntu0.18.04.1) ...\n",
            "Processing triggers for hicolor-icon-theme (0.17-2) ...\n",
            "Processing triggers for mime-support (3.60ubuntu1) ...\n",
            "Processing triggers for man-db (2.8.3-2ubuntu0.1) ...\n"
          ],
          "name": "stdout"
        },
        {
          "output_type": "stream",
          "text": [
            "/usr/local/lib/python3.6/dist-packages/ipykernel_launcher.py:10: DeprecationWarning: use options instead of chrome_options\n",
            "  # Remove the CWD from sys.path while we load stuff.\n",
            "/usr/local/lib/python3.6/dist-packages/ipykernel_launcher.py:11: DeprecationWarning: use options instead of chrome_options\n",
            "  # This is added back by InteractiveShellApp.init_path()\n"
          ],
          "name": "stderr"
        }
      ]
    },
    {
      "cell_type": "markdown",
      "metadata": {
        "id": "dTjbH4MYC1Lr",
        "colab_type": "text"
      },
      "source": [
        "#2. Parse the HTML Document"
      ]
    },
    {
      "cell_type": "markdown",
      "metadata": {
        "id": "wpxThIbbDZzJ",
        "colab_type": "text"
      },
      "source": [
        "We are going to extract information on laptops. Before that, let's understand how a BeautifulSoup object stores HTML content and the basic functions to extract information from it.\n",
        "\n",
        "You can get the same soup object using the Selenium driver that we just set up above or by using the requests module."
      ]
    },
    {
      "cell_type": "code",
      "metadata": {
        "id": "Jyd1T0hc2FZp",
        "colab_type": "code",
        "colab": {
          "base_uri": "https://localhost:8080/",
          "height": 34
        },
        "outputId": "b51dd625-4899-4c0f-e963-3e183c28f86c"
      },
      "source": [
        "# Using Selenium Driver\n",
        "url = \"https://www.flipkart.com/\"\n",
        "driver.get(url)\n",
        "soup = BeautifulSoup(driver.page_source)\n",
        "type(soup)"
      ],
      "execution_count": 167,
      "outputs": [
        {
          "output_type": "execute_result",
          "data": {
            "text/plain": [
              "bs4.BeautifulSoup"
            ]
          },
          "metadata": {
            "tags": []
          },
          "execution_count": 167
        }
      ]
    },
    {
      "cell_type": "code",
      "metadata": {
        "id": "apBmouDYG6TY",
        "colab_type": "code",
        "colab": {
          "base_uri": "https://localhost:8080/",
          "height": 34
        },
        "outputId": "3d4f82d7-b68d-488a-b394-06f93ac68cf1"
      },
      "source": [
        "# Using requests module\n",
        "# Header is a definition to your browser. Check yours here - http://www.xhaus.com/headers\n",
        "headers = {\"User-agent\": 'Mozilla/5.0 (X11; Linux x86_64) AppleWebKit/537.36 (KHTML, like Gecko) Chrome/79.0.3945.130 Safari/537.36'}\n",
        "page = requests.get(url, headers=headers)\n",
        "soup = BeautifulSoup(page.content, 'html.parser')\n",
        "type(soup)"
      ],
      "execution_count": 168,
      "outputs": [
        {
          "output_type": "execute_result",
          "data": {
            "text/plain": [
              "bs4.BeautifulSoup"
            ]
          },
          "metadata": {
            "tags": []
          },
          "execution_count": 168
        }
      ]
    },
    {
      "cell_type": "markdown",
      "metadata": {
        "id": "tdEo7InaEFjk",
        "colab_type": "text"
      },
      "source": [
        "Few basic useful functions to view and retrieve data from bs4 object are - prettify, find, find_all, text etc. You can extract info by classes, ids, tags like a, div, ul, li etc.\n",
        "\n",
        "For full documentation, refer - https://www.crummy.com/software/BeautifulSoup/bs4/doc/"
      ]
    },
    {
      "cell_type": "code",
      "metadata": {
        "id": "KdCJ5BYDW0Ye",
        "colab_type": "code",
        "colab": {}
      },
      "source": [
        "# View the source HTML content\n",
        "# print(soup.prettify())\n",
        "\n",
        "# Note that this will print the entire HTML of Flipkart Homepage and have commented intentionally"
      ],
      "execution_count": 184,
      "outputs": []
    },
    {
      "cell_type": "code",
      "metadata": {
        "id": "oQaPLf8uYGeU",
        "colab_type": "code",
        "colab": {
          "base_uri": "https://localhost:8080/",
          "height": 34
        },
        "outputId": "53a3c219-d31c-4ca1-a81e-8c2e13f5cd27"
      },
      "source": [
        "soup.title #Print the title tag"
      ],
      "execution_count": 170,
      "outputs": [
        {
          "output_type": "execute_result",
          "data": {
            "text/plain": [
              "<title>Online Shopping Site for Mobiles, Electronics, Furniture, Grocery, Lifestyle, Books &amp; More. Best Offers!</title>"
            ]
          },
          "metadata": {
            "tags": []
          },
          "execution_count": 170
        }
      ]
    },
    {
      "cell_type": "code",
      "metadata": {
        "id": "kHuVBmEJDskG",
        "colab_type": "code",
        "colab": {
          "base_uri": "https://localhost:8080/",
          "height": 122
        },
        "outputId": "120ee7e8-26ad-4f9f-964f-15934611dee2"
      },
      "source": [
        "# Find all anchor tags with links\n",
        "soup.find_all('a')[0:5] # printing only the first five matches"
      ],
      "execution_count": 171,
      "outputs": [
        {
          "output_type": "execute_result",
          "data": {
            "text/plain": [
              "[<a href=\"/\"><img alt=\"Flipkart\" class=\"_1e_EAo\" src=\"//img1a.flixcart.com/www/linchpin/fk-cp-zion/img/flipkart-plus_4ee2f9.png\" title=\"Flipkart\" width=\"75\"/></a>,\n",
              " <a class=\"_33x-Wq\" href=\"/plus\">Explore<!-- --> <span class=\"_2Ky4Ru\">Plus</span><img src=\"//img1a.flixcart.com/www/linchpin/fk-cp-zion/img/plus_b13a8b.png\" width=\"10\"/></a>,\n",
              " <a class=\"_3Ep39l\" href=\"/account/login?ret=/\">Login</a>,\n",
              " <a class=\"_3ko_Ud\" href=\"/viewcart?otracker=Cart_Icon_Click\"><svg class=\"_2fcmoV\" height=\"14\" viewbox=\"0 0 16 16\" width=\"14\" xmlns=\"http://www.w3.org/2000/svg\"><path class=\"_2JpNOH\" d=\"M15.32 2.405H4.887C3 2.405 2.46.805 2.46.805L2.257.21C2.208.085 2.083 0 1.946 0H.336C.1 0-.064.24.024.46l.644 1.945L3.11 9.767c.047.137.175.23.32.23h8.418l-.493 1.958H3.768l.002.003c-.017 0-.033-.003-.05-.003-1.06 0-1.92.86-1.92 1.92s.86 1.92 1.92 1.92c.99 0 1.805-.75 1.91-1.712l5.55.076c.12.922.91 1.636 1.867 1.636 1.04 0 1.885-.844 1.885-1.885 0-.866-.584-1.593-1.38-1.814l2.423-8.832c.12-.433-.206-.86-.655-.86\" fill=\"#fff\"></path></svg><span>Cart</span></a>,\n",
              " <a class=\"_3wkiBG\" href=\"/mobiles-phone-big-saving-days-aug-929s-9jwj-store\"><img class=\"_1rLkVb\" src=\"https://rukminim1.flixcart.com/www/200/200/promos/04/08/2020/4f1cd6ac-0e73-4ece-8d25-a3292f7b08e8.png?q=90\"/><p class=\"_3xwWCT\">Mobiles &amp; Tablets</p></a>]"
            ]
          },
          "metadata": {
            "tags": []
          },
          "execution_count": 171
        }
      ]
    },
    {
      "cell_type": "markdown",
      "metadata": {
        "id": "V8zqkHiYI-s-",
        "colab_type": "text"
      },
      "source": [
        "Now let's get to the objective - Extract information from the first page of 'laptops' search"
      ]
    },
    {
      "cell_type": "code",
      "metadata": {
        "id": "inYE00KqZPeG",
        "colab_type": "code",
        "colab": {}
      },
      "source": [
        "url = \"https://www.flipkart.com/search?q=laptop&sid=6bo%2Cb5g&as=on&as-show=on&otracker=AS_QueryStore_OrganicAutoSuggest_1_7_na_na_na&otracker1=AS_QueryStore_OrganicAutoSuggest_1_7_na_na_na&as-pos=1&as-type=HISTORY&suggestionId=laptop%7CLaptops&requestId=c149720f-935a-493f-a36d-5f45ef55734d\"\n",
        "driver.get(url)\n",
        "soup = BeautifulSoup(driver.page_source)"
      ],
      "execution_count": 172,
      "outputs": []
    },
    {
      "cell_type": "markdown",
      "metadata": {
        "id": "NVflLf_adYm2",
        "colab_type": "text"
      },
      "source": [
        "#3. Inspect the Layout and Extract\n",
        "Inspecting the web layout requires a basic understanding of HTML and DOM.\n",
        "You can refer to w3schools tutorial [here](https://www.w3schools.com/html/)\n",
        "\n",
        "Here we are mainly interested in Product names and details. This image will provide a quick reference."
      ]
    },
    {
      "cell_type": "code",
      "metadata": {
        "id": "7kZQXhhyiOxX",
        "colab_type": "code",
        "colab": {
          "base_uri": "https://localhost:8080/",
          "height": 525
        },
        "outputId": "a8818278-8bb1-4297-d365-eb5098230a17"
      },
      "source": [
        "%%html\n",
        "<iframe src=\"https://drive.google.com/file/d/1dD-enzt9jW-7xh0v08IWBjaWsfrvnT-e/preview\" width=\"900\" height=\"500\"></iframe>"
      ],
      "execution_count": 173,
      "outputs": [
        {
          "output_type": "display_data",
          "data": {
            "text/html": [
              "<iframe src=\"https://drive.google.com/file/d/1dD-enzt9jW-7xh0v08IWBjaWsfrvnT-e/preview\" width=\"900\" height=\"500\"></iframe>"
            ],
            "text/plain": [
              "<IPython.core.display.HTML object>"
            ]
          },
          "metadata": {
            "tags": []
          }
        }
      ]
    },
    {
      "cell_type": "markdown",
      "metadata": {
        "id": "QWFjRF9MlNx5",
        "colab_type": "text"
      },
      "source": [
        "So to get all the product names, we just need to find the class of interest and use find_all function to get all the relevant bs4 response data"
      ]
    },
    {
      "cell_type": "code",
      "metadata": {
        "id": "VwW8TaCLcS5B",
        "colab_type": "code",
        "colab": {
          "base_uri": "https://localhost:8080/",
          "height": 425
        },
        "outputId": "20a54f1d-1101-471f-af51-159e145426ee"
      },
      "source": [
        "# Get all the product names of laptops\n",
        "soup.find_all(attrs = {'class': '_3wU53n'})"
      ],
      "execution_count": 174,
      "outputs": [
        {
          "output_type": "execute_result",
          "data": {
            "text/plain": [
              "[<div class=\"_3wU53n\">Acer Aspire 7 Core i5 9th Gen - (8 GB/512 GB SSD/Windows 10 Home/4 GB Graphics/NVIDIA Geforce GTX 1650...</div>,\n",
              " <div class=\"_3wU53n\">Dell Vostro Core i3 10th Gen - (8 GB/1 TB HDD/Windows 10 Home) Vostro 3491 Thin and Light Laptop</div>,\n",
              " <div class=\"_3wU53n\">HP 15s Core i5 10th Gen - (8 GB/512 GB SSD/Windows 10 Home) 15s-du2078TU Thin and Light Laptop</div>,\n",
              " <div class=\"_3wU53n\">Dell Vostro Core i5 10th Gen - (8 GB/1 TB HDD/256 GB SSD/Windows 10 Home) Vostro 3491 Thin and Light L...</div>,\n",
              " <div class=\"_3wU53n\">Asus Core i3 10th Gen - (4 GB/1 TB HDD/256 GB SSD/Windows 10 Home) X509JA-EJ654T Laptop</div>,\n",
              " <div class=\"_3wU53n\">Asus Core i3 10th Gen - (4 GB/1 TB HDD/Windows 10 Home) X509JA-EJ485T Laptop</div>,\n",
              " <div class=\"_3wU53n\">Asus VivoBook 14 Core i5 10th Gen - (8 GB/1 TB HDD/256 GB SSD/Windows 10 Home) X412FA-EK512T Thin and ...</div>,\n",
              " <div class=\"_3wU53n\">Asus VivoBook 14 Core i5 10th Gen - (8 GB/1 TB HDD/256 GB SSD/Windows 10 Home) X412FA-EK513T Thin and ...</div>,\n",
              " <div class=\"_3wU53n\">Asus VivoBook 14 Core i3 10th Gen - (4 GB/256 GB SSD/Windows 10 Home) X412FA-EK361T Thin and Light Lap...</div>,\n",
              " <div class=\"_3wU53n\">Asus VivoBook 14 Ryzen 5 Quad Core 2nd Gen - (8 GB/512 GB SSD/Windows 10 Home) X412DA-EK501T Thin and ...</div>,\n",
              " <div class=\"_3wU53n\">Asus VivoBook 14 Core i5 10th Gen - (8 GB/1 TB HDD/256 GB SSD/Windows 10 Home/2 GB Graphics) X412FJ-EK...</div>,\n",
              " <div class=\"_3wU53n\">Honor MagicBook 15 Ryzen 5 Quad Core - (8 GB/256 GB SSD/Windows 10 Home) Boh-WAQ9HNR Thin and Light La...</div>,\n",
              " <div class=\"_3wU53n\">Dell Vostro Core i3 10th Gen - (4 GB/256 GB SSD/Windows 10 Home) Vostro 3491 Thin and Light Laptop</div>,\n",
              " <div class=\"_3wU53n\">Asus VivoBook 14 Core i3 10th Gen - (4 GB/256 GB SSD/Windows 10 Home) X412FA-EK363T Thin and Light Lap...</div>,\n",
              " <div class=\"_3wU53n\">Asus VivoBook 14 Core i5 10th Gen - (8 GB/1 TB HDD/256 GB SSD/Windows 10 Home) X412FA-EK511T Thin and ...</div>,\n",
              " <div class=\"_3wU53n\">HP 15q Core i3 8th Gen - (8 GB/1 TB HDD/Windows 10 Home) 15q-ds0059TU Thin and Light Laptop</div>,\n",
              " <div class=\"_3wU53n\">HP Pavilion Gaming Ryzen 5 Quad Core - (8 GB/512 GB SSD/Windows 10 Home/4 GB Graphics/NVIDIA Geforce G...</div>,\n",
              " <div class=\"_3wU53n\">HP 14s Core i5 10th Gen - (8 GB/512 GB SSD/Windows 10 Home) 14s-cs3010TU Laptop</div>,\n",
              " <div class=\"_3wU53n\">Asus Core i5 10th Gen - (8 GB/512 GB SSD/Windows 10 Home/2 GB Graphics) X509JB-EJ591T Laptop</div>,\n",
              " <div class=\"_3wU53n\">Avita Liber Core i5 8th Gen - (8 GB/256 GB SSD/Windows 10 Home) NS13A2IN211P Thin and Light Laptop</div>,\n",
              " <div class=\"_3wU53n\">Dell G3 Core i7 9th Gen - (8 GB/1 TB HDD/512 GB SSD/Windows 10 Home/4 GB Graphics/NVIDIA Geforce GTX 1...</div>,\n",
              " <div class=\"_3wU53n\">Lenovo IdeaPad Gaming 3 Core i5 10th Gen - (8 GB/1 TB HDD/256 GB SSD/Windows 10 Home/4 GB Graphics/NVI...</div>,\n",
              " <div class=\"_3wU53n\">Lenovo IdeaPad Gaming 3i Core i7 10th Gen - (8 GB/1 TB HDD/256 GB SSD/Windows 10 Home/4 GB Graphics/NV...</div>,\n",
              " <div class=\"_3wU53n\">MSI GF63 Thin Core i7 9th Gen - (8 GB/512 GB SSD/Windows 10 Home/4 GB Graphics/NVIDIA Geforce GTX 1650...</div>]"
            ]
          },
          "metadata": {
            "tags": []
          },
          "execution_count": 174
        }
      ]
    },
    {
      "cell_type": "code",
      "metadata": {
        "id": "4T2aX81khzSe",
        "colab_type": "code",
        "colab": {}
      },
      "source": [
        "# Getting the text data inside product and price classes\n",
        "products = [item.text for item in soup.find_all(attrs = {'class': '_3wU53n'})]\n",
        "prices = [item.text for item in soup.find_all(attrs = {'class': '_1vC4OE _2rQ-NK'})]"
      ],
      "execution_count": 175,
      "outputs": []
    },
    {
      "cell_type": "code",
      "metadata": {
        "id": "a9EW7ZaniEGg",
        "colab_type": "code",
        "colab": {
          "base_uri": "https://localhost:8080/",
          "height": 833
        },
        "outputId": "9732f71f-cc1e-4e96-8575-22b33e8c25f6"
      },
      "source": [
        "list(zip(products, prices))"
      ],
      "execution_count": 176,
      "outputs": [
        {
          "output_type": "execute_result",
          "data": {
            "text/plain": [
              "[('Acer Aspire 7 Core i5 9th Gen - (8 GB/512 GB SSD/Windows 10 Home/4 GB Graphics/NVIDIA Geforce GTX 1650...',\n",
              "  '₹56,990'),\n",
              " ('Dell Vostro Core i3 10th Gen - (8 GB/1 TB HDD/Windows 10 Home) Vostro 3491 Thin and Light Laptop',\n",
              "  '₹36,990'),\n",
              " ('HP 15s Core i5 10th Gen - (8 GB/512 GB SSD/Windows 10 Home) 15s-du2078TU Thin and Light Laptop',\n",
              "  '₹49,990'),\n",
              " ('Dell Vostro Core i5 10th Gen - (8 GB/1 TB HDD/256 GB SSD/Windows 10 Home) Vostro 3491 Thin and Light L...',\n",
              "  '₹52,990'),\n",
              " ('Asus Core i3 10th Gen - (4 GB/1 TB HDD/256 GB SSD/Windows 10 Home) X509JA-EJ654T Laptop',\n",
              "  '₹39,990'),\n",
              " ('Asus Core i3 10th Gen - (4 GB/1 TB HDD/Windows 10 Home) X509JA-EJ485T Laptop',\n",
              "  '₹32,990'),\n",
              " ('Asus VivoBook 14 Core i5 10th Gen - (8 GB/1 TB HDD/256 GB SSD/Windows 10 Home) X412FA-EK512T Thin and ...',\n",
              "  '₹52,990'),\n",
              " ('Asus VivoBook 14 Core i5 10th Gen - (8 GB/1 TB HDD/256 GB SSD/Windows 10 Home) X412FA-EK513T Thin and ...',\n",
              "  '₹52,990'),\n",
              " ('Asus VivoBook 14 Core i3 10th Gen - (4 GB/256 GB SSD/Windows 10 Home) X412FA-EK361T Thin and Light Lap...',\n",
              "  '₹38,990'),\n",
              " ('Asus VivoBook 14 Ryzen 5 Quad Core 2nd Gen - (8 GB/512 GB SSD/Windows 10 Home) X412DA-EK501T Thin and ...',\n",
              "  '₹42,990'),\n",
              " ('Asus VivoBook 14 Core i5 10th Gen - (8 GB/1 TB HDD/256 GB SSD/Windows 10 Home/2 GB Graphics) X412FJ-EK...',\n",
              "  '₹59,990'),\n",
              " ('Honor MagicBook 15 Ryzen 5 Quad Core - (8 GB/256 GB SSD/Windows 10 Home) Boh-WAQ9HNR Thin and Light La...',\n",
              "  '₹42,990'),\n",
              " ('Dell Vostro Core i3 10th Gen - (4 GB/256 GB SSD/Windows 10 Home) Vostro 3491 Thin and Light Laptop',\n",
              "  '₹35,990'),\n",
              " ('Asus VivoBook 14 Core i3 10th Gen - (4 GB/256 GB SSD/Windows 10 Home) X412FA-EK363T Thin and Light Lap...',\n",
              "  '₹35,990'),\n",
              " ('Asus VivoBook 14 Core i5 10th Gen - (8 GB/1 TB HDD/256 GB SSD/Windows 10 Home) X412FA-EK511T Thin and ...',\n",
              "  '₹52,990'),\n",
              " ('HP 15q Core i3 8th Gen - (8 GB/1 TB HDD/Windows 10 Home) 15q-ds0059TU Thin and Light Laptop',\n",
              "  '₹35,740'),\n",
              " ('HP Pavilion Gaming Ryzen 5 Quad Core - (8 GB/512 GB SSD/Windows 10 Home/4 GB Graphics/NVIDIA Geforce G...',\n",
              "  '₹59,990'),\n",
              " ('HP 14s Core i5 10th Gen - (8 GB/512 GB SSD/Windows 10 Home) 14s-cs3010TU Laptop',\n",
              "  '₹52,990'),\n",
              " ('Asus Core i5 10th Gen - (8 GB/512 GB SSD/Windows 10 Home/2 GB Graphics) X509JB-EJ591T Laptop',\n",
              "  '₹52,990'),\n",
              " ('Avita Liber Core i5 8th Gen - (8 GB/256 GB SSD/Windows 10 Home) NS13A2IN211P Thin and Light Laptop',\n",
              "  '₹39,990'),\n",
              " ('Dell G3 Core i7 9th Gen - (8 GB/1 TB HDD/512 GB SSD/Windows 10 Home/4 GB Graphics/NVIDIA Geforce GTX 1...',\n",
              "  '₹84,990'),\n",
              " ('Lenovo IdeaPad Gaming 3 Core i5 10th Gen - (8 GB/1 TB HDD/256 GB SSD/Windows 10 Home/4 GB Graphics/NVI...',\n",
              "  '₹68,990'),\n",
              " ('Lenovo IdeaPad Gaming 3i Core i7 10th Gen - (8 GB/1 TB HDD/256 GB SSD/Windows 10 Home/4 GB Graphics/NV...',\n",
              "  '₹79,990'),\n",
              " ('MSI GF63 Thin Core i7 9th Gen - (8 GB/512 GB SSD/Windows 10 Home/4 GB Graphics/NVIDIA Geforce GTX 1650...',\n",
              "  '₹69,990')]"
            ]
          },
          "metadata": {
            "tags": []
          },
          "execution_count": 176
        }
      ]
    },
    {
      "cell_type": "code",
      "metadata": {
        "id": "faEnXlFByWqh",
        "colab_type": "code",
        "colab": {}
      },
      "source": [
        "# Description of each product is stored as list objects. \n",
        "# Hence we need to loop through all the un-ordered list objects and the list items inside them\n",
        "product_details = []\n",
        "\n",
        "for ul in soup.find_all(attrs = {'class': 'vFw0gD'}):\n",
        "  details_list = []\n",
        "  for li in ul.find_all('li'):\n",
        "    details_list.append(li.text)\n",
        "  product_details.append(', '.join(details_list))"
      ],
      "execution_count": 177,
      "outputs": []
    },
    {
      "cell_type": "markdown",
      "metadata": {
        "id": "1C8oi8DnqzkU",
        "colab_type": "text"
      },
      "source": [
        "#4. Store the Data"
      ]
    },
    {
      "cell_type": "code",
      "metadata": {
        "id": "s-38vxhdesjm",
        "colab_type": "code",
        "colab": {
          "base_uri": "https://localhost:8080/",
          "height": 204
        },
        "outputId": "b89b94e7-644d-42c9-f6dc-5eedb29dd62b"
      },
      "source": [
        "df = pd.DataFrame({\n",
        " 'Product': products,\n",
        " 'Price': prices,\n",
        " 'Details': product_details\n",
        "})\n",
        "\n",
        "df.head()"
      ],
      "execution_count": 178,
      "outputs": [
        {
          "output_type": "execute_result",
          "data": {
            "text/html": [
              "<div>\n",
              "<style scoped>\n",
              "    .dataframe tbody tr th:only-of-type {\n",
              "        vertical-align: middle;\n",
              "    }\n",
              "\n",
              "    .dataframe tbody tr th {\n",
              "        vertical-align: top;\n",
              "    }\n",
              "\n",
              "    .dataframe thead th {\n",
              "        text-align: right;\n",
              "    }\n",
              "</style>\n",
              "<table border=\"1\" class=\"dataframe\">\n",
              "  <thead>\n",
              "    <tr style=\"text-align: right;\">\n",
              "      <th></th>\n",
              "      <th>Product</th>\n",
              "      <th>Price</th>\n",
              "      <th>Details</th>\n",
              "    </tr>\n",
              "  </thead>\n",
              "  <tbody>\n",
              "    <tr>\n",
              "      <th>0</th>\n",
              "      <td>Acer Aspire 7 Core i5 9th Gen - (8 GB/512 GB S...</td>\n",
              "      <td>₹56,990</td>\n",
              "      <td>Intel Core i5 Processor (9th Gen), 8 GB DDR4 R...</td>\n",
              "    </tr>\n",
              "    <tr>\n",
              "      <th>1</th>\n",
              "      <td>Dell Vostro Core i3 10th Gen - (8 GB/1 TB HDD/...</td>\n",
              "      <td>₹36,990</td>\n",
              "      <td>Intel Core i3 Processor (10th Gen), 8 GB DDR4 ...</td>\n",
              "    </tr>\n",
              "    <tr>\n",
              "      <th>2</th>\n",
              "      <td>HP 15s Core i5 10th Gen - (8 GB/512 GB SSD/Win...</td>\n",
              "      <td>₹49,990</td>\n",
              "      <td>Intel Core i5 Processor (10th Gen), 8 GB DDR4 ...</td>\n",
              "    </tr>\n",
              "    <tr>\n",
              "      <th>3</th>\n",
              "      <td>Dell Vostro Core i5 10th Gen - (8 GB/1 TB HDD/...</td>\n",
              "      <td>₹52,990</td>\n",
              "      <td>Intel Core i5 Processor (10th Gen), 8 GB DDR4 ...</td>\n",
              "    </tr>\n",
              "    <tr>\n",
              "      <th>4</th>\n",
              "      <td>Asus Core i3 10th Gen - (4 GB/1 TB HDD/256 GB ...</td>\n",
              "      <td>₹39,990</td>\n",
              "      <td>Intel Core i3 Processor (10th Gen), 4 GB DDR4 ...</td>\n",
              "    </tr>\n",
              "  </tbody>\n",
              "</table>\n",
              "</div>"
            ],
            "text/plain": [
              "                                             Product  ...                                            Details\n",
              "0  Acer Aspire 7 Core i5 9th Gen - (8 GB/512 GB S...  ...  Intel Core i5 Processor (9th Gen), 8 GB DDR4 R...\n",
              "1  Dell Vostro Core i3 10th Gen - (8 GB/1 TB HDD/...  ...  Intel Core i3 Processor (10th Gen), 8 GB DDR4 ...\n",
              "2  HP 15s Core i5 10th Gen - (8 GB/512 GB SSD/Win...  ...  Intel Core i5 Processor (10th Gen), 8 GB DDR4 ...\n",
              "3  Dell Vostro Core i5 10th Gen - (8 GB/1 TB HDD/...  ...  Intel Core i5 Processor (10th Gen), 8 GB DDR4 ...\n",
              "4  Asus Core i3 10th Gen - (4 GB/1 TB HDD/256 GB ...  ...  Intel Core i3 Processor (10th Gen), 4 GB DDR4 ...\n",
              "\n",
              "[5 rows x 3 columns]"
            ]
          },
          "metadata": {
            "tags": []
          },
          "execution_count": 178
        }
      ]
    },
    {
      "cell_type": "code",
      "metadata": {
        "id": "5LnOch7Dn_yD",
        "colab_type": "code",
        "colab": {
          "base_uri": "https://localhost:8080/",
          "height": 34
        },
        "outputId": "3bd04afc-5723-4f26-aa32-cd666598152c"
      },
      "source": [
        "from google.colab import drive\n",
        "drive.mount('/drive')"
      ],
      "execution_count": 181,
      "outputs": [
        {
          "output_type": "stream",
          "text": [
            "Mounted at /drive\n"
          ],
          "name": "stdout"
        }
      ]
    },
    {
      "cell_type": "code",
      "metadata": {
        "id": "eLKjhg9hnU3T",
        "colab_type": "code",
        "colab": {}
      },
      "source": [
        "df.to_csv('/drive/My Drive/Colab Notebooks/NLP/Web Scraping/laptop_details.csv')"
      ],
      "execution_count": 182,
      "outputs": []
    },
    {
      "cell_type": "markdown",
      "metadata": {
        "id": "NcUqb1wXnJZE",
        "colab_type": "text"
      },
      "source": [
        "##Entire modularized code for quick reference"
      ]
    },
    {
      "cell_type": "code",
      "metadata": {
        "id": "vuPvqJOpzp-M",
        "colab_type": "code",
        "colab": {
          "base_uri": "https://localhost:8080/",
          "height": 793
        },
        "outputId": "df2907f8-802b-4f6d-8699-2d37fa53e5f8"
      },
      "source": [
        "def flipkart_extract():\n",
        "  '''Extract the product details from a specific url of Flipkart Website and returns a pandas dataframe'''\n",
        "\n",
        "  # Website connection and parser\n",
        "  url = \"https://www.flipkart.com/search?q=laptop&sid=6bo%2Cb5g&as=on&as-show=on&otracker=AS_QueryStore_OrganicAutoSuggest_1_7_na_na_na&otracker1=AS_QueryStore_OrganicAutoSuggest_1_7_na_na_na&as-pos=1&as-type=HISTORY&suggestionId=laptop%7CLaptops&requestId=c149720f-935a-493f-a36d-5f45ef55734d\"\n",
        "  headers = {\"User-agent\": 'Mozilla/5.0 (X11; Linux x86_64) AppleWebKit/537.36 (KHTML, like Gecko) Chrome/79.0.3945.130 Safari/537.36'}\n",
        "  page = requests.get(url, headers=headers)\n",
        "  soup = BeautifulSoup(page.content, 'html.parser')\n",
        "\n",
        "  # Inspection and extraction\n",
        "  products = [item.text for item in soup.find_all(attrs = {'class': '_3wU53n'})]\n",
        "  prices = [item.text for item in soup.find_all(attrs = {'class': '_1vC4OE _2rQ-NK'})]\n",
        "\n",
        "  product_details = []\n",
        "  for ul in soup.find_all(attrs = {'class': 'vFw0gD'}):\n",
        "    details_list = []\n",
        "    for li in ul.find_all('li'):\n",
        "      details_list.append(li.text)\n",
        "    product_details.append(', '.join(details_list))\n",
        "\n",
        "  # Storing the data\n",
        "  df = pd.DataFrame({\n",
        "      'Product': products,\n",
        "      'Price': prices,\n",
        "      'Details': product_details\n",
        "      })\n",
        "  \n",
        "  return df\n",
        "\n",
        "flipkart_extract()"
      ],
      "execution_count": 183,
      "outputs": [
        {
          "output_type": "execute_result",
          "data": {
            "text/html": [
              "<div>\n",
              "<style scoped>\n",
              "    .dataframe tbody tr th:only-of-type {\n",
              "        vertical-align: middle;\n",
              "    }\n",
              "\n",
              "    .dataframe tbody tr th {\n",
              "        vertical-align: top;\n",
              "    }\n",
              "\n",
              "    .dataframe thead th {\n",
              "        text-align: right;\n",
              "    }\n",
              "</style>\n",
              "<table border=\"1\" class=\"dataframe\">\n",
              "  <thead>\n",
              "    <tr style=\"text-align: right;\">\n",
              "      <th></th>\n",
              "      <th>Product</th>\n",
              "      <th>Price</th>\n",
              "      <th>Details</th>\n",
              "    </tr>\n",
              "  </thead>\n",
              "  <tbody>\n",
              "    <tr>\n",
              "      <th>0</th>\n",
              "      <td>Acer Aspire 7 Core i5 9th Gen - (8 GB/512 GB S...</td>\n",
              "      <td>₹56,990</td>\n",
              "      <td>Intel Core i5 Processor (9th Gen), 8 GB DDR4 R...</td>\n",
              "    </tr>\n",
              "    <tr>\n",
              "      <th>1</th>\n",
              "      <td>Dell Vostro Core i3 10th Gen - (8 GB/1 TB HDD/...</td>\n",
              "      <td>₹36,990</td>\n",
              "      <td>Intel Core i3 Processor (10th Gen), 8 GB DDR4 ...</td>\n",
              "    </tr>\n",
              "    <tr>\n",
              "      <th>2</th>\n",
              "      <td>HP 15s Core i5 10th Gen - (8 GB/512 GB SSD/Win...</td>\n",
              "      <td>₹49,990</td>\n",
              "      <td>Intel Core i5 Processor (10th Gen), 8 GB DDR4 ...</td>\n",
              "    </tr>\n",
              "    <tr>\n",
              "      <th>3</th>\n",
              "      <td>Dell Vostro Core i5 10th Gen - (8 GB/1 TB HDD/...</td>\n",
              "      <td>₹52,990</td>\n",
              "      <td>Intel Core i5 Processor (10th Gen), 8 GB DDR4 ...</td>\n",
              "    </tr>\n",
              "    <tr>\n",
              "      <th>4</th>\n",
              "      <td>Asus Core i3 10th Gen - (4 GB/1 TB HDD/256 GB ...</td>\n",
              "      <td>₹39,990</td>\n",
              "      <td>Intel Core i3 Processor (10th Gen), 4 GB DDR4 ...</td>\n",
              "    </tr>\n",
              "    <tr>\n",
              "      <th>5</th>\n",
              "      <td>Asus Core i3 10th Gen - (4 GB/1 TB HDD/Windows...</td>\n",
              "      <td>₹32,990</td>\n",
              "      <td>Intel Core i3 Processor (10th Gen), 4 GB DDR4 ...</td>\n",
              "    </tr>\n",
              "    <tr>\n",
              "      <th>6</th>\n",
              "      <td>Asus VivoBook 14 Core i5 10th Gen - (8 GB/1 TB...</td>\n",
              "      <td>₹52,990</td>\n",
              "      <td>Intel Core i5 Processor (10th Gen), 8 GB DDR4 ...</td>\n",
              "    </tr>\n",
              "    <tr>\n",
              "      <th>7</th>\n",
              "      <td>Asus VivoBook 14 Core i5 10th Gen - (8 GB/1 TB...</td>\n",
              "      <td>₹52,990</td>\n",
              "      <td>Intel Core i5 Processor (10th Gen), 8 GB DDR4 ...</td>\n",
              "    </tr>\n",
              "    <tr>\n",
              "      <th>8</th>\n",
              "      <td>Asus VivoBook 14 Core i3 10th Gen - (4 GB/256 ...</td>\n",
              "      <td>₹38,990</td>\n",
              "      <td>Intel Core i3 Processor (10th Gen), 4 GB DDR4 ...</td>\n",
              "    </tr>\n",
              "    <tr>\n",
              "      <th>9</th>\n",
              "      <td>Asus VivoBook 14 Core i3 10th Gen - (4 GB/256 ...</td>\n",
              "      <td>₹35,990</td>\n",
              "      <td>Intel Core i3 Processor (10th Gen), 4 GB DDR4 ...</td>\n",
              "    </tr>\n",
              "    <tr>\n",
              "      <th>10</th>\n",
              "      <td>Asus VivoBook 14 Ryzen 5 Quad Core 2nd Gen - (...</td>\n",
              "      <td>₹42,990</td>\n",
              "      <td>AMD Ryzen 5 Quad Core Processor (2nd Gen), 8 G...</td>\n",
              "    </tr>\n",
              "    <tr>\n",
              "      <th>11</th>\n",
              "      <td>Asus VivoBook 14 Core i5 10th Gen - (8 GB/1 TB...</td>\n",
              "      <td>₹59,990</td>\n",
              "      <td>Intel Core i5 Processor (10th Gen), 8 GB DDR4 ...</td>\n",
              "    </tr>\n",
              "    <tr>\n",
              "      <th>12</th>\n",
              "      <td>Honor MagicBook 15 Ryzen 5 Quad Core - (8 GB/2...</td>\n",
              "      <td>₹42,990</td>\n",
              "      <td>65 W Type C Fast Charger, Eye Comfort &amp; Protec...</td>\n",
              "    </tr>\n",
              "    <tr>\n",
              "      <th>13</th>\n",
              "      <td>Dell Vostro Core i3 10th Gen - (4 GB/256 GB SS...</td>\n",
              "      <td>₹35,990</td>\n",
              "      <td>Intel Core i3 Processor (10th Gen), 4 GB DDR4 ...</td>\n",
              "    </tr>\n",
              "    <tr>\n",
              "      <th>14</th>\n",
              "      <td>Asus VivoBook 14 Core i5 10th Gen - (8 GB/1 TB...</td>\n",
              "      <td>₹52,990</td>\n",
              "      <td>Intel Core i5 Processor (10th Gen), 8 GB DDR4 ...</td>\n",
              "    </tr>\n",
              "    <tr>\n",
              "      <th>15</th>\n",
              "      <td>HP 15q Core i3 8th Gen - (8 GB/1 TB HDD/Window...</td>\n",
              "      <td>₹35,740</td>\n",
              "      <td>Intel Core i3 Processor (8th Gen), 8 GB DDR4 R...</td>\n",
              "    </tr>\n",
              "    <tr>\n",
              "      <th>16</th>\n",
              "      <td>HP 14s Core i5 10th Gen - (8 GB/512 GB SSD/Win...</td>\n",
              "      <td>₹52,990</td>\n",
              "      <td>#N/A, Intel Core i5 Processor (10th Gen), 8 GB...</td>\n",
              "    </tr>\n",
              "    <tr>\n",
              "      <th>17</th>\n",
              "      <td>HP Pavilion Gaming Ryzen 5 Quad Core - (8 GB/5...</td>\n",
              "      <td>₹59,990</td>\n",
              "      <td>AMD Ryzen 5 Quad Core Processor, 8 GB DDR4 RAM...</td>\n",
              "    </tr>\n",
              "    <tr>\n",
              "      <th>18</th>\n",
              "      <td>Dell G3 Core i7 9th Gen - (8 GB/1 TB HDD/512 G...</td>\n",
              "      <td>₹84,990</td>\n",
              "      <td>Intel Core i7 Processor (9th Gen), 8 GB DDR4 R...</td>\n",
              "    </tr>\n",
              "    <tr>\n",
              "      <th>19</th>\n",
              "      <td>Lenovo IdeaPad Gaming 3 Core i5 10th Gen - (8 ...</td>\n",
              "      <td>₹68,990</td>\n",
              "      <td>Intel Core i5 Processor (10th Gen), 8 GB DDR4 ...</td>\n",
              "    </tr>\n",
              "    <tr>\n",
              "      <th>20</th>\n",
              "      <td>Avita Liber Core i5 8th Gen - (8 GB/256 GB SSD...</td>\n",
              "      <td>₹39,990</td>\n",
              "      <td>Intel Core i5 Processor (8th Gen), 8 GB DDR3 R...</td>\n",
              "    </tr>\n",
              "    <tr>\n",
              "      <th>21</th>\n",
              "      <td>Asus Core i5 10th Gen - (8 GB/512 GB SSD/Windo...</td>\n",
              "      <td>₹52,990</td>\n",
              "      <td>Intel Core i5 Processor (10th Gen), 8 GB DDR4 ...</td>\n",
              "    </tr>\n",
              "    <tr>\n",
              "      <th>22</th>\n",
              "      <td>Lenovo IdeaPad Gaming 3i Core i7 10th Gen - (8...</td>\n",
              "      <td>₹79,990</td>\n",
              "      <td>Intel Core i7 Processor (10th Gen), 8 GB DDR4 ...</td>\n",
              "    </tr>\n",
              "    <tr>\n",
              "      <th>23</th>\n",
              "      <td>MSI GF63 Thin Core i7 9th Gen - (8 GB/512 GB S...</td>\n",
              "      <td>₹69,990</td>\n",
              "      <td>Intel Core i7 Processor (9th Gen), 8 GB DDR4 R...</td>\n",
              "    </tr>\n",
              "  </tbody>\n",
              "</table>\n",
              "</div>"
            ],
            "text/plain": [
              "                                              Product  ...                                            Details\n",
              "0   Acer Aspire 7 Core i5 9th Gen - (8 GB/512 GB S...  ...  Intel Core i5 Processor (9th Gen), 8 GB DDR4 R...\n",
              "1   Dell Vostro Core i3 10th Gen - (8 GB/1 TB HDD/...  ...  Intel Core i3 Processor (10th Gen), 8 GB DDR4 ...\n",
              "2   HP 15s Core i5 10th Gen - (8 GB/512 GB SSD/Win...  ...  Intel Core i5 Processor (10th Gen), 8 GB DDR4 ...\n",
              "3   Dell Vostro Core i5 10th Gen - (8 GB/1 TB HDD/...  ...  Intel Core i5 Processor (10th Gen), 8 GB DDR4 ...\n",
              "4   Asus Core i3 10th Gen - (4 GB/1 TB HDD/256 GB ...  ...  Intel Core i3 Processor (10th Gen), 4 GB DDR4 ...\n",
              "5   Asus Core i3 10th Gen - (4 GB/1 TB HDD/Windows...  ...  Intel Core i3 Processor (10th Gen), 4 GB DDR4 ...\n",
              "6   Asus VivoBook 14 Core i5 10th Gen - (8 GB/1 TB...  ...  Intel Core i5 Processor (10th Gen), 8 GB DDR4 ...\n",
              "7   Asus VivoBook 14 Core i5 10th Gen - (8 GB/1 TB...  ...  Intel Core i5 Processor (10th Gen), 8 GB DDR4 ...\n",
              "8   Asus VivoBook 14 Core i3 10th Gen - (4 GB/256 ...  ...  Intel Core i3 Processor (10th Gen), 4 GB DDR4 ...\n",
              "9   Asus VivoBook 14 Core i3 10th Gen - (4 GB/256 ...  ...  Intel Core i3 Processor (10th Gen), 4 GB DDR4 ...\n",
              "10  Asus VivoBook 14 Ryzen 5 Quad Core 2nd Gen - (...  ...  AMD Ryzen 5 Quad Core Processor (2nd Gen), 8 G...\n",
              "11  Asus VivoBook 14 Core i5 10th Gen - (8 GB/1 TB...  ...  Intel Core i5 Processor (10th Gen), 8 GB DDR4 ...\n",
              "12  Honor MagicBook 15 Ryzen 5 Quad Core - (8 GB/2...  ...  65 W Type C Fast Charger, Eye Comfort & Protec...\n",
              "13  Dell Vostro Core i3 10th Gen - (4 GB/256 GB SS...  ...  Intel Core i3 Processor (10th Gen), 4 GB DDR4 ...\n",
              "14  Asus VivoBook 14 Core i5 10th Gen - (8 GB/1 TB...  ...  Intel Core i5 Processor (10th Gen), 8 GB DDR4 ...\n",
              "15  HP 15q Core i3 8th Gen - (8 GB/1 TB HDD/Window...  ...  Intel Core i3 Processor (8th Gen), 8 GB DDR4 R...\n",
              "16  HP 14s Core i5 10th Gen - (8 GB/512 GB SSD/Win...  ...  #N/A, Intel Core i5 Processor (10th Gen), 8 GB...\n",
              "17  HP Pavilion Gaming Ryzen 5 Quad Core - (8 GB/5...  ...  AMD Ryzen 5 Quad Core Processor, 8 GB DDR4 RAM...\n",
              "18  Dell G3 Core i7 9th Gen - (8 GB/1 TB HDD/512 G...  ...  Intel Core i7 Processor (9th Gen), 8 GB DDR4 R...\n",
              "19  Lenovo IdeaPad Gaming 3 Core i5 10th Gen - (8 ...  ...  Intel Core i5 Processor (10th Gen), 8 GB DDR4 ...\n",
              "20  Avita Liber Core i5 8th Gen - (8 GB/256 GB SSD...  ...  Intel Core i5 Processor (8th Gen), 8 GB DDR3 R...\n",
              "21  Asus Core i5 10th Gen - (8 GB/512 GB SSD/Windo...  ...  Intel Core i5 Processor (10th Gen), 8 GB DDR4 ...\n",
              "22  Lenovo IdeaPad Gaming 3i Core i7 10th Gen - (8...  ...  Intel Core i7 Processor (10th Gen), 8 GB DDR4 ...\n",
              "23  MSI GF63 Thin Core i7 9th Gen - (8 GB/512 GB S...  ...  Intel Core i7 Processor (9th Gen), 8 GB DDR4 R...\n",
              "\n",
              "[24 rows x 3 columns]"
            ]
          },
          "metadata": {
            "tags": []
          },
          "execution_count": 183
        }
      ]
    },
    {
      "cell_type": "code",
      "metadata": {
        "id": "4Bl1Lz7osZk0",
        "colab_type": "code",
        "colab": {}
      },
      "source": [
        ""
      ],
      "execution_count": null,
      "outputs": []
    }
  ]
}